{
 "cells": [
  {
   "cell_type": "code",
   "execution_count": 1,
   "metadata": {},
   "outputs": [],
   "source": [
    "import pandas as pd"
   ]
  },
  {
   "cell_type": "code",
   "execution_count": 4,
   "metadata": {},
   "outputs": [],
   "source": [
    "df = pd.read_excel('subsidies/субсидии.xlsx', sheet_name='показатель 504-п')"
   ]
  },
  {
   "cell_type": "code",
   "execution_count": 7,
   "metadata": {},
   "outputs": [],
   "source": [
    "key_number = 1"
   ]
  },
  {
   "cell_type": "code",
   "execution_count": 8,
   "metadata": {},
   "outputs": [
    {
     "data": {
      "text/html": [
       "<div>\n",
       "<style scoped>\n",
       "    .dataframe tbody tr th:only-of-type {\n",
       "        vertical-align: middle;\n",
       "    }\n",
       "\n",
       "    .dataframe tbody tr th {\n",
       "        vertical-align: top;\n",
       "    }\n",
       "\n",
       "    .dataframe thead th {\n",
       "        text-align: right;\n",
       "    }\n",
       "</style>\n",
       "<table border=\"1\" class=\"dataframe\">\n",
       "  <thead>\n",
       "    <tr style=\"text-align: right;\">\n",
       "      <th></th>\n",
       "      <th>Муниципальное образование</th>\n",
       "      <th>Поселение</th>\n",
       "      <th>Населенный пункт</th>\n",
       "      <th>ВПН 2010</th>\n",
       "      <th>ВПН 2020</th>\n",
       "      <th>ФИАС</th>\n",
       "      <th>широта</th>\n",
       "      <th>долгота</th>\n",
       "      <th>УУС</th>\n",
       "      <th>ПРТС</th>\n",
       "      <th>Билайн</th>\n",
       "      <th>Мегафон</th>\n",
       "      <th>МТС</th>\n",
       "      <th>Теле2</th>\n",
       "      <th>Интернет</th>\n",
       "      <th>УС-СЗО</th>\n",
       "      <th>УЦН 1.0</th>\n",
       "      <th>УЦН 2.0</th>\n",
       "      <th>Субсидия</th>\n",
       "      <th>ключ</th>\n",
       "    </tr>\n",
       "  </thead>\n",
       "  <tbody>\n",
       "    <tr>\n",
       "      <th>0</th>\n",
       "      <td>Абанский р-н</td>\n",
       "      <td>Абанский сельсовет</td>\n",
       "      <td>Абан п.</td>\n",
       "      <td>9187</td>\n",
       "      <td>8207</td>\n",
       "      <td>ca0b067b-b512-4722-83e2-21a75b933a3b</td>\n",
       "      <td>56.677341</td>\n",
       "      <td>96.079096</td>\n",
       "      <td>NaN</td>\n",
       "      <td>4G хор</td>\n",
       "      <td>Билайн(4G Хорошее)</td>\n",
       "      <td>Мегафон(4G Хорошее)</td>\n",
       "      <td>МТС(4G Хорошее)</td>\n",
       "      <td>Теле2(4G Хорошее)</td>\n",
       "      <td>ВОЛС</td>\n",
       "      <td>ВОЛС</td>\n",
       "      <td>NaN</td>\n",
       "      <td>NaN</td>\n",
       "      <td>NaN</td>\n",
       "      <td>1</td>\n",
       "    </tr>\n",
       "  </tbody>\n",
       "</table>\n",
       "</div>"
      ],
      "text/plain": [
       "  Муниципальное образование           Поселение Населенный пункт  ВПН 2010  \\\n",
       "0              Абанский р-н  Абанский сельсовет          Абан п.      9187   \n",
       "\n",
       "   ВПН 2020                                  ФИАС     широта    долгота  УУС  \\\n",
       "0      8207  ca0b067b-b512-4722-83e2-21a75b933a3b  56.677341  96.079096  NaN   \n",
       "\n",
       "     ПРТС              Билайн              Мегафон              МТС  \\\n",
       "0  4G хор  Билайн(4G Хорошее)  Мегафон(4G Хорошее)  МТС(4G Хорошее)   \n",
       "\n",
       "               Теле2 Интернет УС-СЗО УЦН 1.0 УЦН 2.0  Субсидия  ключ  \n",
       "0  Теле2(4G Хорошее)     ВОЛС   ВОЛС     NaN     NaN       NaN     1  "
      ]
     },
     "execution_count": 8,
     "metadata": {},
     "output_type": "execute_result"
    }
   ],
   "source": [
    "df.query(f'ключ == {key_number}')"
   ]
  },
  {
   "cell_type": "code",
   "execution_count": null,
   "metadata": {},
   "outputs": [],
   "source": []
  }
 ],
 "metadata": {
  "kernelspec": {
   "display_name": ".venv",
   "language": "python",
   "name": "python3"
  },
  "language_info": {
   "codemirror_mode": {
    "name": "ipython",
    "version": 3
   },
   "file_extension": ".py",
   "mimetype": "text/x-python",
   "name": "python",
   "nbconvert_exporter": "python",
   "pygments_lexer": "ipython3",
   "version": "3.11.4"
  }
 },
 "nbformat": 4,
 "nbformat_minor": 2
}
